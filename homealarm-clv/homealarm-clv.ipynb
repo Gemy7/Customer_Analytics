{
 "cells": [
  {
   "cell_type": "markdown",
   "metadata": {},
   "source": [
    "# Home Alarm CLV\n",
    "\n",
    "Prepare \"Home Alarm, Inc.: Assessing Customer Lifetime Value\" for class discussion and as an individual assignment and submit the assignment through GitLab. Be VERY clear about where results are coming from and what assumptions you are making in your Python code. It is in your best interest that we do not have to struggle to figure out where your numbers came from. The assignment (pdf) is on Canvas (week2/homealarm-clv.pdf). Example Excel calculations are also on Canvas (week1/aws-clv.xlsx and week1/notflix-cls.xlsx).\n",
    "\n",
    "## Setup\n",
    "\n",
    "Create a Jupyter notebook in which you calculate the CLV for a customer that uses auto-pay and for a customer that does not use auto-pay and answer question 1 through 4 in the assignment PDF.\n",
    "\n",
    "## Hints\n",
    "\n",
    "Add text motivating your work in Markdown format. Markdown is a simple formatting syntax for authoring HTML. For more details on using markdown go to http://commonmark.org/help/ for a 10-minute interactive Markdown tutorial\n",
    "\n",
    "Please generate an HTML (Notebook) with your answers to all the questions listed in the homealarm-clv.pdf file on Canvas. When you have finished editing the jupyter notebook and havengenerated the HTML report make sure to save, commit, and push to GitLab. We will collect all files from GitLab after the due date.\n",
    "\n",
    "Use File > Export Notebook As... > Export Notebook to HTML to get the html report and include to the jupyter notebook file and the HTML file in your submission.\n",
    "\n",
    "## Analysis\n",
    "\n",
    "The python dictionary below contains information about attrition notifications from the table on page 3 of the assignment PDF.\n",
    "\n",
    "Note: GitLab will automatically tests if your work is fully reproducible each time you \"push\" changes (see .gitlab-ci.yml for the configuration). If you get an email from GitLab stating that there was an error, it suggests a problem in your code. Note that the setup for the Home Alarm assignment will *not* test if your analysis is correct. GitLab will only check if the code is valid and runs without issue in the docker container."
   ]
  },
  {
   "cell_type": "code",
   "execution_count": 4,
   "metadata": {},
   "outputs": [],
   "source": [
    "import pandas as pd\n",
    "import numpy as np\n",
    "import seaborn as sns\n",
    "import matplotlib.pyplot as plt"
   ]
  },
  {
   "cell_type": "code",
   "execution_count": 5,
   "metadata": {},
   "outputs": [],
   "source": [
    "churn = pd.DataFrame(\n",
    "    {\n",
    "        \"autopay\": [0.032, 0.070, 0.097, 0.103, 0.095, 0.078, 0.069, 0.059, 0.053],\n",
    "        \"no_autopay\": [0.084, 0.122, 0.162, 0.154, 0.134, 0.120, 0.111, 0.096, 0.086],\n",
    "    }\n",
    ")"
   ]
  },
  {
   "cell_type": "markdown",
   "metadata": {},
   "source": [
    "### Calculate CLV for autopay customers"
   ]
  },
  {
   "cell_type": "markdown",
   "metadata": {},
   "source": [
    "- This CLV calculation is for Year2 to Year9 since existing residential customers who are about to start their 2nd year with Home\n",
    "-  The churn rate of Year2 is zero, which means the retention rate of Year2 is 100%\n",
    "- the revenue paid by customers monthly\n",
    "-  Retention of one year is related to the churn rate of last year\n",
    "- Since we consider \"existing\" residential customers, we ignore installation cost"
   ]
  },
  {
   "cell_type": "code",
   "execution_count": 6,
   "metadata": {},
   "outputs": [
    {
     "name": "stderr",
     "output_type": "stream",
     "text": [
      "<ipython-input-6-02b2f7f6a10b>:39: SettingWithCopyWarning: \n",
      "A value is trying to be set on a copy of a slice from a DataFrame\n",
      "\n",
      "See the caveats in the documentation: https://pandas.pydata.org/pandas-docs/stable/user_guide/indexing.html#returning-a-view-versus-a-copy\n",
      "  autopay['clv'][i]=autopay['clv'][i-1]+autopay['clv'][i]\n"
     ]
    }
   ],
   "source": [
    "monthly_discount_rate =(1+0.1)**(1/12)-1\n",
    "general_rate_increases = 0.03 \n",
    "Y1_rev = 40\n",
    "Y1_serco = 6\n",
    "Y1_marco = 2\n",
    "#revenue list\n",
    "revenue_ele = [Y1_rev*((1+general_rate_increases)**i) for i in range(8)]\n",
    "revenue =  [val for val in revenue_ele for i in range(12)]\n",
    "service_cost_ele = [Y1_serco*(1+general_rate_increases)**i for i in range(8)]\n",
    "service_cost = [val for val in service_cost_ele for i in range(12)]\n",
    "market_cost_ele = [Y1_marco*(1+general_rate_increases)**i for i in range(8)]\n",
    "market_cost = [val for val in market_cost_ele for i in range(12)]\n",
    "discount = [i+1 for i in range(12*8)]\n",
    "autopay_churn=list(churn['autopay'][:-1])\n",
    "autopay_churn[0]=0\n",
    "prob_of_act_end=[1]\n",
    "for i in range(8):\n",
    "    prob_of_act_end.append(prob_of_act_end[i]*(1-autopay_churn[i]))\n",
    "prob_of_act_end = prob_of_act_end[1:]\n",
    "autopay_churn = [val for val in autopay_churn for i in range(12)]\n",
    "prob_of_act_end = [val for val in prob_of_act_end for i in range(12)]\n",
    "autopay = pd.DataFrame(\n",
    "    {\n",
    "        \"Revenues\":revenue,\n",
    "        \"service_cost\": service_cost,\n",
    "        \"market_cost\": market_cost,\n",
    "        \"churn_rate\": autopay_churn,\n",
    "        \"discount\": discount,\n",
    "        \"prob_of_act_end\": prob_of_act_end\n",
    "    }\n",
    ")\n",
    "autopay['customer_profits'] = autopay['Revenues']-autopay['service_cost']-autopay['market_cost']\n",
    "autopay['expected_profit'] = autopay['customer_profits']*autopay['prob_of_act_end']\n",
    "autopay['pv_expected_profit'] = autopay['expected_profit']/(1+monthly_discount_rate)**autopay['discount']\n",
    "autopay['clv'] = autopay['pv_expected_profit']\n",
    "\n",
    "for i in range(len(autopay['clv'])):\n",
    "    if i != 0:\n",
    "        autopay['clv'][i]=autopay['clv'][i-1]+autopay['clv'][i]"
   ]
  },
  {
   "cell_type": "code",
   "execution_count": 8,
   "metadata": {},
   "outputs": [
    {
     "name": "stdout",
     "output_type": "stream",
     "text": [
      "autopay_clv: 1803.6602006114986\n"
     ]
    }
   ],
   "source": [
    "print(\"autopay_clv:\",list(autopay['clv'])[-1])"
   ]
  },
  {
   "cell_type": "markdown",
   "metadata": {},
   "source": [
    "### Calculate CLV for non-autopay customers"
   ]
  },
  {
   "cell_type": "markdown",
   "metadata": {},
   "source": [
    "- This CLV calculation is for Year2 to Year9 since existing residential customers who are about to start their 2nd year with Home\n",
    "-  The churn rate of Year2 is zero, which means the retention rate of Year2 is 100%\n",
    "- the revenue paid by customers monthly\n",
    "-  Retention of one year is related to the churn rate of last year\n",
    "- Since we consider \"existing\" residential customers, we ignore installation cost"
   ]
  },
  {
   "cell_type": "code",
   "execution_count": 9,
   "metadata": {},
   "outputs": [
    {
     "name": "stderr",
     "output_type": "stream",
     "text": [
      "<ipython-input-9-6db9135a1725>:39: SettingWithCopyWarning: \n",
      "A value is trying to be set on a copy of a slice from a DataFrame\n",
      "\n",
      "See the caveats in the documentation: https://pandas.pydata.org/pandas-docs/stable/user_guide/indexing.html#returning-a-view-versus-a-copy\n",
      "  no_autopay['clv'][i]=no_autopay['clv'][i-1]+no_autopay['clv'][i]\n"
     ]
    }
   ],
   "source": [
    "monthly_discount_rate =(1+0.1)**(1/12)-1\n",
    "general_rate_increases = 0.03 \n",
    "Y1_rev = 40\n",
    "Y1_serco = 6\n",
    "Y1_marco = 2\n",
    "#revenue list\n",
    "revenue_ele = [Y1_rev*((1+general_rate_increases)**i) for i in range(8)]\n",
    "revenue =  [val for val in revenue_ele for i in range(12)]\n",
    "service_cost_ele = [Y1_serco*(1+general_rate_increases)**i for i in range(8)]\n",
    "service_cost = [val for val in service_cost_ele for i in range(12)]\n",
    "market_cost_ele = [Y1_marco*(1+general_rate_increases)**i for i in range(8)]\n",
    "market_cost = [val for val in market_cost_ele for i in range(12)]\n",
    "discount = [i+1 for i in range(12*8)]\n",
    "no_autopay_churn=list(churn['no_autopay'][:-1])\n",
    "no_autopay_churn[0]=0\n",
    "prob_of_act_end=[1]\n",
    "for i in range(8):\n",
    "    prob_of_act_end.append(prob_of_act_end[i]*(1-no_autopay_churn[i]))\n",
    "prob_of_act_end = prob_of_act_end[1:]\n",
    "no_autopay_churn = [val for val in no_autopay_churn for i in range(12)]\n",
    "prob_of_act_end = [val for val in prob_of_act_end for i in range(12)]\n",
    "no_autopay = pd.DataFrame(\n",
    "    {\n",
    "        \"Revenues\":revenue,\n",
    "        \"service_cost\": service_cost,\n",
    "        \"market_cost\": market_cost,\n",
    "        \"churn_rate\": no_autopay_churn,\n",
    "        \"discount\": discount,\n",
    "        \"prob_of_act_end\": prob_of_act_end\n",
    "    }\n",
    ")\n",
    "no_autopay['customer_profits'] = no_autopay['Revenues']-no_autopay['service_cost']-no_autopay['market_cost']\n",
    "no_autopay['expected_profit'] = no_autopay['customer_profits']*no_autopay['prob_of_act_end']\n",
    "no_autopay['pv_expected_profit'] = no_autopay['expected_profit']/(1+monthly_discount_rate)**no_autopay['discount']\n",
    "no_autopay['clv'] = no_autopay['pv_expected_profit']\n",
    "\n",
    "for i in range(len(no_autopay['clv'])):\n",
    "    if i != 0:\n",
    "        no_autopay['clv'][i]=no_autopay['clv'][i-1]+no_autopay['clv'][i]"
   ]
  },
  {
   "cell_type": "code",
   "execution_count": 10,
   "metadata": {},
   "outputs": [
    {
     "name": "stdout",
     "output_type": "stream",
     "text": [
      "no_autopay_clv: 1553.7229332501743\n"
     ]
    }
   ],
   "source": [
    "print(\"no_autopay_clv:\",list(no_autopay['clv'])[-1])"
   ]
  },
  {
   "cell_type": "markdown",
   "metadata": {},
   "source": [
    "### Create a line graph of CLV for both autopay and non-autopay customer "
   ]
  },
  {
   "cell_type": "code",
   "execution_count": 11,
   "metadata": {},
   "outputs": [
    {
     "data": {
      "text/plain": [
       "Text(0, 0.5, 'CLV')"
      ]
     },
     "execution_count": 11,
     "metadata": {},
     "output_type": "execute_result"
    },
    {
     "data": {
      "image/png": "[encoded data removed]",
      "text/plain": [
       "<Figure size 432x288 with 1 Axes>"
      ]
     },
     "metadata": {
      "needs_background": "light"
     },
     "output_type": "display_data"
    }
   ],
   "source": [
    "cohort = [i+1 for i in range(96)]\n",
    "auto_pay_clv = autopay['clv']\n",
    "no_auto_pay_clv = no_autopay['clv']\n",
    "clv_diff = pd.DataFrame(\n",
    "    {\n",
    "        \"Cohort\": cohort,\n",
    "        \"auto_pay_clv\": auto_pay_clv,\n",
    "        \"no_auto_pay_clv\": no_auto_pay_clv,\n",
    "\n",
    "    }\n",
    ")\n",
    "clv_diff.set_index('Cohort')\n",
    "sns.lineplot(data=clv_diff,x='Cohort',y='auto_pay_clv',label=\"Autopay\")\n",
    "sns.lineplot(data=clv_diff,x='Cohort',y='no_auto_pay_clv',label = \"No_autopay\")\n",
    "plt.title(\"Autopay VS No_autopay on CLV\")\n",
    "plt.ylabel(\"CLV\")"
   ]
  },
  {
   "cell_type": "markdown",
   "metadata": {},
   "source": [
    "### Create a line graph of the retention rate for both autopay and non-autopay customer "
   ]
  },
  {
   "cell_type": "code",
   "execution_count": 12,
   "metadata": {},
   "outputs": [
    {
     "data": {
      "text/plain": [
       "Text(0, 0.5, 'Retention_rate')"
      ]
     },
     "execution_count": 12,
     "metadata": {},
     "output_type": "execute_result"
    },
    {
     "data": {
      "image/png": "[encoded data removed]",
      "text/plain": [
       "<Figure size 432x288 with 1 Axes>"
      ]
     },
     "metadata": {
      "needs_background": "light"
     },
     "output_type": "display_data"
    }
   ],
   "source": [
    "cohort = [i+1 for i in range(96)]\n",
    "auto_pay_ren = autopay['prob_of_act_end']\n",
    "no_auto_pay_ren = no_autopay['prob_of_act_end']\n",
    "ren_diff = pd.DataFrame(\n",
    "    {\n",
    "        \"Cohort\": cohort,\n",
    "        \"auto_pay_ren\": auto_pay_ren,\n",
    "        \"no_auto_pay_ren\": no_auto_pay_ren,\n",
    "\n",
    "    }\n",
    ")\n",
    "ren_diff.set_index('Cohort')\n",
    "sns.lineplot(data=ren_diff,x='Cohort',y='auto_pay_ren',label=\"Autopay\")\n",
    "sns.lineplot(data=ren_diff,x='Cohort',y='no_auto_pay_ren',label = \"No_autopay\")\n",
    "plt.title(\"Autopay VS No_autopay on CLV\")\n",
    "plt.ylabel(\"Retention_rate\")"
   ]
  },
  {
   "cell_type": "markdown",
   "metadata": {},
   "source": [
    "### Calculate the maximum amount to spend on autopay incentives"
   ]
  },
  {
   "cell_type": "code",
   "execution_count": 13,
   "metadata": {},
   "outputs": [
    {
     "name": "stdout",
     "output_type": "stream",
     "text": [
      "Maxium amount to spend on autopay incentives is 249.94\n"
     ]
    }
   ],
   "source": [
    "max_pay = auto_pay_clv[len(auto_pay_clv)-1]-no_auto_pay_clv[len(no_auto_pay_clv)-1]\n",
    "print(f\"Maxium amount to spend on autopay incentives is {max_pay.round(2)}\")"
   ]
  },
  {
   "cell_type": "markdown",
   "metadata": {},
   "source": [
    "### Suggested marketing actions\n",
    "\n",
    "Suggest three marketing actions Home Alarm should consider to convert existing customers to autopay who are about to start their second year with Home Alarm. Be specific about incentive amounts you recommend using (if any)"
   ]
  },
  {
   "cell_type": "markdown",
   "metadata": {},
   "source": [
    "- Use gifts or discounts to induce users to renew autopay contracts for an one-year or even longer contract. For example, when users are thinking about renewing the Year3 contract, they can be attracted by a discount of nor more than 17.76 dollars; when users are thinking about renewing the Year4 contract as well, they can get a discount of no more than 51.03 dollars. Or the company can give customers gifts of equal value."
   ]
  },
  {
   "cell_type": "code",
   "execution_count": 14,
   "metadata": {},
   "outputs": [
    {
     "name": "stdout",
     "output_type": "stream",
     "text": [
      "[17.7632037276785, 51.037156208530746, 90.22324519203812, 130.23797991202855, 170.72907004052013, 210.92627125747458, 249.9372673613243]\n"
     ]
    }
   ],
   "source": [
    "clv_diff['diff']=clv_diff['auto_pay_clv']-clv_diff['no_auto_pay_clv']\n",
    "Y3_diff = clv_diff['diff'][23]\n",
    "Y4_diff = clv_diff['diff'][35]\n",
    "Y5_diff = clv_diff['diff'][47]\n",
    "Y6_diff = clv_diff['diff'][59]\n",
    "Y7_diff = clv_diff['diff'][71]\n",
    "Y8_diff = clv_diff['diff'][83]\n",
    "Y9_diff = clv_diff['diff'][95]\n",
    "Y3_9_diff = [Y3_diff,Y4_diff,Y5_diff,Y6_diff,Y7_diff,Y8_diff,Y9_diff]\n",
    "print(Y3_9_diff)"
   ]
  },
  {
   "cell_type": "markdown",
   "metadata": {},
   "source": [
    "- Discounted prices throughout the year. For example, if the autopay contract is renewed, users throughout the year can enjoy a 3% discount on monthly payments"
   ]
  },
  {
   "cell_type": "code",
   "execution_count": 15,
   "metadata": {},
   "outputs": [
    {
     "name": "stdout",
     "output_type": "stream",
     "text": [
      "[0.9640711898712004, 0.9651176600691267, 0.9661336505525502, 0.9671200490801458, 0.9680777175535396, 0.9690074927704267, 0.9699101871557542]\n"
     ]
    }
   ],
   "source": [
    "Y3_discount = (revenue_ele[1]*12-Y3_diff)/(revenue_ele[1]*12)\n",
    "Y4_discount = (revenue_ele[2]*12-Y3_diff)/(revenue_ele[2]*12)\n",
    "Y5_discount = (revenue_ele[3]*12-Y3_diff)/(revenue_ele[3]*12)\n",
    "Y6_discount = (revenue_ele[4]*12-Y3_diff)/(revenue_ele[4]*12)\n",
    "Y7_discount = (revenue_ele[5]*12-Y3_diff)/(revenue_ele[5]*12)\n",
    "Y8_discount = (revenue_ele[6]*12-Y3_diff)/(revenue_ele[6]*12)\n",
    "Y9_discount = (revenue_ele[7]*12-Y3_diff)/(revenue_ele[7]*12)\n",
    "Y3_9_discount = [Y3_discount,Y4_discount,Y5_discount,Y6_discount,Y7_discount,Y8_discount,Y9_discount]\n",
    "print(Y3_9_discount)"
   ]
  },
  {
   "cell_type": "markdown",
   "metadata": {},
   "source": [
    "- Use cash back incentives. For example, if customer choose to renews autopay contract for Year3, the customer will receive a refund of 1.48 dollars in cash after each payment. For Year4, the customer will receive a refund of 2.77 per month..."
   ]
  },
  {
   "cell_type": "code",
   "execution_count": 16,
   "metadata": {},
   "outputs": [
    {
     "name": "stdout",
     "output_type": "stream",
     "text": [
      "[1.48026698 2.77282937 3.26550742 3.33456123 3.37425751 3.34976677\n",
      " 3.25091634]\n"
     ]
    }
   ],
   "source": [
    "Y3_diff_y = clv_diff['diff'][23]-clv_diff['diff'][11]\n",
    "Y4_diff_y = clv_diff['diff'][35]-clv_diff['diff'][23]\n",
    "Y5_diff_y = clv_diff['diff'][47]-clv_diff['diff'][35]\n",
    "Y6_diff_y = clv_diff['diff'][59]-clv_diff['diff'][47]\n",
    "Y7_diff_y = clv_diff['diff'][71]-clv_diff['diff'][59]\n",
    "Y8_diff_y = clv_diff['diff'][83]-clv_diff['diff'][71]\n",
    "Y9_diff_y = clv_diff['diff'][95]-clv_diff['diff'][83]\n",
    "\n",
    "Y3_9_diff_y = [Y3_diff_y,Y4_diff_y,Y5_diff_y,Y6_diff_y,Y7_diff_y,Y8_diff_y,Y9_diff_y]\n",
    "Y3_9_diff_y = np.array(Y3_9_diff_y)/12\n",
    "print(Y3_9_diff_y)"
   ]
  },
  {
   "cell_type": "code",
   "execution_count": null,
   "metadata": {},
   "outputs": [],
   "source": []
  }
 ],
 "metadata": {
  "jupytext": {
   "formats": "ipynb,py:percent"
  },
  "kernelspec": {
   "display_name": "Python 3",
   "language": "python",
   "name": "python3"
  },
  "language_info": {
   "codemirror_mode": {
    "name": "ipython",
    "version": 3
   },
   "file_extension": ".py",
   "mimetype": "text/x-python",
   "name": "python",
   "nbconvert_exporter": "python",
   "pygments_lexer": "ipython3",
   "version": "3.8.5"
  }
 },
 "nbformat": 4,
 "nbformat_minor": 4
}
